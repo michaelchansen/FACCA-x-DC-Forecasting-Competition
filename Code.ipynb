{
 "cells": [
  {
   "cell_type": "code",
   "execution_count": 29,
   "metadata": {},
   "outputs": [],
   "source": [
    "%matplotlib inline\n",
    "import pandas as pd\n",
    "import numpy as np\n",
    "import matplotlib.pyplot as plt\n",
    "import seaborn as sns\n",
    "from sklearn.preprocessing import StandardScaler,MinMaxScaler\n",
    "from sklearn.svm import OneClassSVM\n",
    "import collections\n",
    "\n",
    "\n",
    "import matplotlib.pyplot as plt\n",
    "\n",
    "from sklearn.metrics import (confusion_matrix, precision_recall_curve, auc,\n",
    "                             roc_curve, recall_score, classification_report, f1_score,\n",
    "                             precision_recall_fscore_support)"
   ]
  },
  {
   "cell_type": "code",
   "execution_count": 30,
   "metadata": {},
   "outputs": [],
   "source": [
    "#Importing the data set\n",
    "daily_demand_supply_stock_data_train=pd.read_csv('daily_demand_supply_stock_data_train.csv')\n",
    "daily_price_data_train=pd.read_csv('daily_price_data_train.csv')\n",
    "demand_forecast_jan20=pd.read_csv('demand_forecast_jan20.csv')\n",
    "demand_power_forecast_jan20=pd.read_csv('demand_power_forecast_jan20.csv')\n",
    "PipelineBookingEntry31012020=pd.read_csv('PipelineBookingEntry31012020.csv')\n",
    "PipelineBookingExit31012020=pd.read_csv('PipelineBookingExit31012020.csv')\n",
    "portcalls_M1_forecast_jan20=pd.read_csv('portcalls_M1_forecast_jan20.csv')\n",
    "TemperatureForecastBarcelona31012020=pd.read_csv('TemperatureForecastBarcelona31012020.csv')\n",
    "TemperatureForecastMadrid31012020=pd.read_csv('TemperatureForecastMadrid31012020.csv')\n",
    "TemperatureForecastMalaga31012020=pd.read_csv('TemperatureForecastMalaga31012020.csv')\n",
    "TemperatureForecastValencia31012020=pd.read_csv('TemperatureForecastValencia31012020.csv')\n",
    "TemperatureHistoricalBarcelona31122019=pd.read_csv('TemperatureHistoricalBarcelona31122019.csv')\n",
    "TemperatureHistoricalMadrid31122019=pd.read_csv('TemperatureHistoricalMadrid31122019.csv')\n",
    "TemperatureHistoricalMalaga31122019=pd.read_csv('TemperatureHistoricalMalaga31122019.csv')\n",
    "TemperatureHistoricalValencia31122019=pd.read_csv('TemperatureHistoricalValencia31122019.csv')"
   ]
  },
  {
   "cell_type": "code",
   "execution_count": 31,
   "metadata": {},
   "outputs": [],
   "source": [
    "#Data Wrangling and Exploration"
   ]
  },
  {
   "cell_type": "code",
   "execution_count": 32,
   "metadata": {},
   "outputs": [],
   "source": [
    "#Droping the columns\n",
    "daily_demand_supply_stock_data_train=daily_demand_supply_stock_data_train.drop(['Category',\n",
    "                                                                                'Asset', 'MeasureName','Unit'],axis=1)\n",
    "spot_price=daily_price_data_train.drop(['Product','TradeDate','DailyTradingVolume [MWh/d]'],axis=1)\n",
    "PipelineBookingEntry31012020=PipelineBookingEntry31012020.drop(['Units'],axis=1)\n",
    "TemperatureHistoricalValencia31122019=TemperatureHistoricalValencia31122019.drop(['City'],axis=1)\n",
    "TemperatureHistoricalMalaga31122019=TemperatureHistoricalMalaga31122019.drop(['City'],axis=1)\n",
    "TemperatureHistoricalMadrid31122019=TemperatureHistoricalMadrid31122019.drop(['City'],axis=1)\n",
    "TemperatureHistoricalBarcelona31122019=TemperatureHistoricalBarcelona31122019.drop(['City'],axis=1)\n",
    "TemperatureForecastValencia31012020=TemperatureForecastValencia31012020.drop(['City'],axis=1)\n",
    "TemperatureForecastMalaga31012020=TemperatureForecastMalaga31012020.drop(['City'],axis=1)\n",
    "TemperatureForecastMadrid31012020=TemperatureForecastMadrid31012020.drop(['City'],axis=1)\n",
    "TemperatureForecastBarcelona31012020=TemperatureForecastBarcelona31012020.drop(['City'],axis=1)\n",
    "portcalls_M1_forecast_jan20=portcalls_M1_forecast_jan20.drop(['Asset','MeasureName','Unit'],axis=1)\n",
    "PipelineBookingExit31012020=PipelineBookingExit31012020.drop(['Units'],axis=1)"
   ]
  },
  {
   "cell_type": "code",
   "execution_count": 33,
   "metadata": {},
   "outputs": [],
   "source": [
    "#1826-Historical Data\n",
    "TemperatureHistoricalBarcelona31122019=TemperatureHistoricalBarcelona31122019[(TemperatureHistoricalBarcelona31122019['Date']\n",
    "                                                                               > '2016-01-05')\n",
    "                                                                              &(TemperatureHistoricalBarcelona31122019['Date']\n",
    "                                                                                <'2020-01-01')].head(1447)\n",
    "TemperatureHistoricalMadrid31122019=TemperatureHistoricalMadrid31122019[(TemperatureHistoricalMadrid31122019['Date']\n",
    "                                                                               > '2016-01-05')\n",
    "                                                                              &(TemperatureHistoricalMadrid31122019['Date']\n",
    "                                                                                <'2020-01-01')].head(1447)['Average Temperature']\n",
    "TemperatureHistoricalMalaga31122019=TemperatureHistoricalMalaga31122019[(TemperatureHistoricalMalaga31122019['Date']\n",
    "                                                                               > '2016-01-05')\n",
    "                                                                              &(TemperatureHistoricalMalaga31122019['Date']\n",
    "                                                                                <'2020-01-01')].head(1447)['Average Temperature']\n",
    "TemperatureHistoricalValencia31122019=TemperatureHistoricalValencia31122019[(TemperatureHistoricalValencia31122019['Date']\n",
    "                                                                               > '2016-01-05')\n",
    "                                                                              &(TemperatureHistoricalValencia31122019['Date']\n",
    "                                                                                <'2020-01-01')].head(1447)['Average Daily Temperature']\n",
    "PipelineBookingEntry31012020=PipelineBookingEntry31012020[(PipelineBookingEntry31012020['Date'] > '2016-01-05') \n",
    "                                                          &(PipelineBookingEntry31012020['Date']\n",
    "                                                                                   <'2020-01-01')].head(1447)['RealEntry']\n",
    "PipelineBookingExit31012020=PipelineBookingExit31012020[(PipelineBookingExit31012020['Date'] > '2016-01-05')\n",
    "                                                        &(PipelineBookingExit31012020['Date']<'2020-01-01')].head(1447)['RealExit']\n",
    "daily_demand_supply_stock_data_train=daily_demand_supply_stock_data_train[(daily_demand_supply_stock_data_train['Date'] \n",
    "                                                                           > '2016-01-05')\n",
    "                                                                          &(daily_demand_supply_stock_data_train['Date']\n",
    "                                                                            <'2020-01-01')].head(1447)['Value']\n",
    "spot_price=spot_price[spot_price['Date'] > '2015-12-30']['LastPriceDaily [EUR/MWh]']\n",
    "\n",
    "#Historical dataframe -2016 to 2019\n",
    "data = [TemperatureHistoricalBarcelona31122019,TemperatureHistoricalMadrid31122019,TemperatureHistoricalMalaga31122019,\n",
    "TemperatureHistoricalValencia31122019,PipelineBookingEntry31012020,PipelineBookingExit31012020,\n",
    "daily_demand_supply_stock_data_train,spot_price]\n",
    "Historical_df = pd. concat(data, axis=1)\n",
    "#Renaming the columns\n",
    "Historical_df.rename(columns = {'Date':'Date','Average Temperature':'TemperatureHistoricalBarcelona31122019',\n",
    "                                'Average Temperature':'TemperatureHistoricalMadrid31122019','Average Temperature':'TemperatureHistoricalMalaga31122019'\n",
    "                                ,'Average Daily Temperature':'TemperatureHistoricalValencia31122019',\n",
    "                                'RealEntry':'PipelineBookingEntry31012020','RealExit':'PipelineBookingExit31012020',\n",
    "                                'Value':'daily_demand_supply_stock_data_train',\n",
    "                                'LastPriceDaily [EUR/MWh]':'spot_price'}, inplace = True)\n",
    "Historical_df['is_spot'] = np.where((Historical_df.spot_price <9),0 & (Historical_df.spot_price >9),1)\n",
    "#31-Forecasts\n",
    "TemperatureForecastValencia31012020=TemperatureForecastValencia31012020\n",
    "TemperatureForecastMalaga31012020=TemperatureForecastMalaga31012020['Average Temperature']\n",
    "TemperatureForecastMadrid31012020=TemperatureForecastMadrid31012020['Average Temperature']\n",
    "TemperatureForecastBarcelona31012020=TemperatureForecastBarcelona31012020['Average Temperature']\n",
    "demand_power_forecast_jan20=demand_power_forecast_jan20['GWh']\n",
    "demand_forecast_jan20=demand_forecast_jan20['GWh']\n",
    "#The forecast data frame\n",
    "portcalls_M1_forecast_jan20=portcalls_M1_forecast_jan20=portcalls_M1_forecast_jan20.head(31)['Value']\n",
    "Data = [TemperatureForecastValencia31012020,TemperatureForecastMalaga31012020,\n",
    "        TemperatureForecastMadrid31012020,TemperatureForecastBarcelona31012020,\n",
    "        demand_power_forecast_jan20,demand_forecast_jan20,portcalls_M1_forecast_jan20]\n",
    "Forecast_20 = pd. concat(Data, axis=1)\n",
    "#Renaming the columns\n",
    "Forecast_20.rename(columns = {'Date':'Date','Average Daily Temperature':'TemperatureForecastValencia31012020',\n",
    "                              'Average Temperature':'TemperatureForecastMalaga31012020',\n",
    "                              'Average Temperature':'TemperatureForecastMadrid31012020',\n",
    "                              'Average Temperature':'TemperatureForecastBarcelona31012020',\n",
    "                              'GWh': 'demand_power_forecast_jan20',\n",
    "                              'GWh':'demand_forecast_jan20',\n",
    "                              'Value':'portcalls_M1_forecast_jan20'}, inplace = True)"
   ]
  },
  {
   "cell_type": "code",
   "execution_count": 34,
   "metadata": {},
   "outputs": [],
   "source": [
    "cols = [c for c in Historical_df.columns if c not in ['Date']]\n",
    "Historical_df=Historical_df.replace(np.nan,0)"
   ]
  },
  {
   "cell_type": "code",
   "execution_count": 35,
   "metadata": {},
   "outputs": [
    {
     "data": {
      "text/html": [
       "<div>\n",
       "<style scoped>\n",
       "    .dataframe tbody tr th:only-of-type {\n",
       "        vertical-align: middle;\n",
       "    }\n",
       "\n",
       "    .dataframe tbody tr th {\n",
       "        vertical-align: top;\n",
       "    }\n",
       "\n",
       "    .dataframe thead th {\n",
       "        text-align: right;\n",
       "    }\n",
       "</style>\n",
       "<table border=\"1\" class=\"dataframe\">\n",
       "  <thead>\n",
       "    <tr style=\"text-align: right;\">\n",
       "      <th></th>\n",
       "      <th>TemperatureHistoricalMalaga31122019</th>\n",
       "      <th>TemperatureHistoricalMalaga31122019</th>\n",
       "      <th>TemperatureHistoricalMalaga31122019</th>\n",
       "      <th>TemperatureHistoricalValencia31122019</th>\n",
       "      <th>PipelineBookingEntry31012020</th>\n",
       "      <th>PipelineBookingExit31012020</th>\n",
       "      <th>daily_demand_supply_stock_data_train</th>\n",
       "      <th>spot_price</th>\n",
       "      <th>is_spot</th>\n",
       "    </tr>\n",
       "  </thead>\n",
       "  <tbody>\n",
       "    <tr>\n",
       "      <th>count</th>\n",
       "      <td>3261.000000</td>\n",
       "      <td>3261.000000</td>\n",
       "      <td>3261.000000</td>\n",
       "      <td>3261.000000</td>\n",
       "      <td>3.261000e+03</td>\n",
       "      <td>3.261000e+03</td>\n",
       "      <td>3261.000000</td>\n",
       "      <td>3261.000000</td>\n",
       "      <td>3261.000000</td>\n",
       "    </tr>\n",
       "    <tr>\n",
       "      <th>mean</th>\n",
       "      <td>7.469403</td>\n",
       "      <td>6.786645</td>\n",
       "      <td>8.541828</td>\n",
       "      <td>7.970813</td>\n",
       "      <td>6.768391e+07</td>\n",
       "      <td>5.616657e+07</td>\n",
       "      <td>20749.837044</td>\n",
       "      <td>8.624370</td>\n",
       "      <td>0.997853</td>\n",
       "    </tr>\n",
       "    <tr>\n",
       "      <th>std</th>\n",
       "      <td>9.312364</td>\n",
       "      <td>9.339626</td>\n",
       "      <td>10.245507</td>\n",
       "      <td>9.827041</td>\n",
       "      <td>7.596369e+07</td>\n",
       "      <td>6.297170e+07</td>\n",
       "      <td>71470.562605</td>\n",
       "      <td>10.324204</td>\n",
       "      <td>0.046289</td>\n",
       "    </tr>\n",
       "    <tr>\n",
       "      <th>min</th>\n",
       "      <td>0.000000</td>\n",
       "      <td>-0.765926</td>\n",
       "      <td>0.000000</td>\n",
       "      <td>0.000000</td>\n",
       "      <td>0.000000e+00</td>\n",
       "      <td>0.000000e+00</td>\n",
       "      <td>-967.400000</td>\n",
       "      <td>0.000000</td>\n",
       "      <td>0.000000</td>\n",
       "    </tr>\n",
       "    <tr>\n",
       "      <th>25%</th>\n",
       "      <td>0.000000</td>\n",
       "      <td>0.000000</td>\n",
       "      <td>0.000000</td>\n",
       "      <td>0.000000</td>\n",
       "      <td>0.000000e+00</td>\n",
       "      <td>0.000000e+00</td>\n",
       "      <td>0.000000</td>\n",
       "      <td>0.000000</td>\n",
       "      <td>1.000000</td>\n",
       "    </tr>\n",
       "    <tr>\n",
       "      <th>50%</th>\n",
       "      <td>0.000000</td>\n",
       "      <td>0.000000</td>\n",
       "      <td>0.000000</td>\n",
       "      <td>0.000000</td>\n",
       "      <td>0.000000e+00</td>\n",
       "      <td>0.000000e+00</td>\n",
       "      <td>0.000000</td>\n",
       "      <td>0.000000</td>\n",
       "      <td>1.000000</td>\n",
       "    </tr>\n",
       "    <tr>\n",
       "      <th>75%</th>\n",
       "      <td>14.626833</td>\n",
       "      <td>12.180000</td>\n",
       "      <td>17.300000</td>\n",
       "      <td>16.029750</td>\n",
       "      <td>1.476451e+08</td>\n",
       "      <td>1.261001e+08</td>\n",
       "      <td>41.000000</td>\n",
       "      <td>17.350000</td>\n",
       "      <td>1.000000</td>\n",
       "    </tr>\n",
       "    <tr>\n",
       "      <th>max</th>\n",
       "      <td>30.171250</td>\n",
       "      <td>32.500000</td>\n",
       "      <td>33.900000</td>\n",
       "      <td>32.900000</td>\n",
       "      <td>1.750050e+08</td>\n",
       "      <td>2.463178e+08</td>\n",
       "      <td>504082.000000</td>\n",
       "      <td>43.000000</td>\n",
       "      <td>1.000000</td>\n",
       "    </tr>\n",
       "  </tbody>\n",
       "</table>\n",
       "</div>"
      ],
      "text/plain": [
       "       TemperatureHistoricalMalaga31122019  \\\n",
       "count                          3261.000000   \n",
       "mean                              7.469403   \n",
       "std                               9.312364   \n",
       "min                               0.000000   \n",
       "25%                               0.000000   \n",
       "50%                               0.000000   \n",
       "75%                              14.626833   \n",
       "max                              30.171250   \n",
       "\n",
       "       TemperatureHistoricalMalaga31122019  \\\n",
       "count                          3261.000000   \n",
       "mean                              6.786645   \n",
       "std                               9.339626   \n",
       "min                              -0.765926   \n",
       "25%                               0.000000   \n",
       "50%                               0.000000   \n",
       "75%                              12.180000   \n",
       "max                              32.500000   \n",
       "\n",
       "       TemperatureHistoricalMalaga31122019  \\\n",
       "count                          3261.000000   \n",
       "mean                              8.541828   \n",
       "std                              10.245507   \n",
       "min                               0.000000   \n",
       "25%                               0.000000   \n",
       "50%                               0.000000   \n",
       "75%                              17.300000   \n",
       "max                              33.900000   \n",
       "\n",
       "       TemperatureHistoricalValencia31122019  PipelineBookingEntry31012020  \\\n",
       "count                            3261.000000                  3.261000e+03   \n",
       "mean                                7.970813                  6.768391e+07   \n",
       "std                                 9.827041                  7.596369e+07   \n",
       "min                                 0.000000                  0.000000e+00   \n",
       "25%                                 0.000000                  0.000000e+00   \n",
       "50%                                 0.000000                  0.000000e+00   \n",
       "75%                                16.029750                  1.476451e+08   \n",
       "max                                32.900000                  1.750050e+08   \n",
       "\n",
       "       PipelineBookingExit31012020  daily_demand_supply_stock_data_train  \\\n",
       "count                 3.261000e+03                           3261.000000   \n",
       "mean                  5.616657e+07                          20749.837044   \n",
       "std                   6.297170e+07                          71470.562605   \n",
       "min                   0.000000e+00                           -967.400000   \n",
       "25%                   0.000000e+00                              0.000000   \n",
       "50%                   0.000000e+00                              0.000000   \n",
       "75%                   1.261001e+08                             41.000000   \n",
       "max                   2.463178e+08                         504082.000000   \n",
       "\n",
       "        spot_price      is_spot  \n",
       "count  3261.000000  3261.000000  \n",
       "mean      8.624370     0.997853  \n",
       "std      10.324204     0.046289  \n",
       "min       0.000000     0.000000  \n",
       "25%       0.000000     1.000000  \n",
       "50%       0.000000     1.000000  \n",
       "75%      17.350000     1.000000  \n",
       "max      43.000000     1.000000  "
      ]
     },
     "execution_count": 35,
     "metadata": {},
     "output_type": "execute_result"
    }
   ],
   "source": [
    "Historical_df.describe()"
   ]
  },
  {
   "cell_type": "code",
   "execution_count": 36,
   "metadata": {},
   "outputs": [
    {
     "data": {
      "text/html": [
       "<div>\n",
       "<style scoped>\n",
       "    .dataframe tbody tr th:only-of-type {\n",
       "        vertical-align: middle;\n",
       "    }\n",
       "\n",
       "    .dataframe tbody tr th {\n",
       "        vertical-align: top;\n",
       "    }\n",
       "\n",
       "    .dataframe thead th {\n",
       "        text-align: right;\n",
       "    }\n",
       "</style>\n",
       "<table border=\"1\" class=\"dataframe\">\n",
       "  <thead>\n",
       "    <tr style=\"text-align: right;\">\n",
       "      <th></th>\n",
       "      <th>TemperatureForecastValencia31012020</th>\n",
       "      <th>TemperatureForecastBarcelona31012020</th>\n",
       "      <th>TemperatureForecastBarcelona31012020</th>\n",
       "      <th>TemperatureForecastBarcelona31012020</th>\n",
       "      <th>demand_forecast_jan20</th>\n",
       "      <th>demand_forecast_jan20</th>\n",
       "      <th>portcalls_M1_forecast_jan20</th>\n",
       "    </tr>\n",
       "  </thead>\n",
       "  <tbody>\n",
       "    <tr>\n",
       "      <th>count</th>\n",
       "      <td>31.000000</td>\n",
       "      <td>31.000000</td>\n",
       "      <td>31.000000</td>\n",
       "      <td>31.000000</td>\n",
       "      <td>31.000000</td>\n",
       "      <td>31.000000</td>\n",
       "      <td>31.000000</td>\n",
       "    </tr>\n",
       "    <tr>\n",
       "      <th>mean</th>\n",
       "      <td>9.538710</td>\n",
       "      <td>12.241935</td>\n",
       "      <td>6.551613</td>\n",
       "      <td>10.780645</td>\n",
       "      <td>-285.161290</td>\n",
       "      <td>-1051.009677</td>\n",
       "      <td>27935.483871</td>\n",
       "    </tr>\n",
       "    <tr>\n",
       "      <th>std</th>\n",
       "      <td>3.025192</td>\n",
       "      <td>1.916033</td>\n",
       "      <td>2.136800</td>\n",
       "      <td>1.580173</td>\n",
       "      <td>70.065254</td>\n",
       "      <td>96.308204</td>\n",
       "      <td>58139.450453</td>\n",
       "    </tr>\n",
       "    <tr>\n",
       "      <th>min</th>\n",
       "      <td>5.900000</td>\n",
       "      <td>9.200000</td>\n",
       "      <td>2.800000</td>\n",
       "      <td>8.300000</td>\n",
       "      <td>-350.000000</td>\n",
       "      <td>-1139.000000</td>\n",
       "      <td>0.000000</td>\n",
       "    </tr>\n",
       "    <tr>\n",
       "      <th>25%</th>\n",
       "      <td>7.400000</td>\n",
       "      <td>11.100000</td>\n",
       "      <td>5.600000</td>\n",
       "      <td>9.700000</td>\n",
       "      <td>-340.000000</td>\n",
       "      <td>-1123.800000</td>\n",
       "      <td>0.000000</td>\n",
       "    </tr>\n",
       "    <tr>\n",
       "      <th>50%</th>\n",
       "      <td>8.700000</td>\n",
       "      <td>11.700000</td>\n",
       "      <td>6.300000</td>\n",
       "      <td>10.400000</td>\n",
       "      <td>-315.000000</td>\n",
       "      <td>-1112.700000</td>\n",
       "      <td>0.000000</td>\n",
       "    </tr>\n",
       "    <tr>\n",
       "      <th>75%</th>\n",
       "      <td>11.250000</td>\n",
       "      <td>13.000000</td>\n",
       "      <td>7.300000</td>\n",
       "      <td>12.050000</td>\n",
       "      <td>-257.500000</td>\n",
       "      <td>-971.850000</td>\n",
       "      <td>0.000000</td>\n",
       "    </tr>\n",
       "    <tr>\n",
       "      <th>max</th>\n",
       "      <td>16.100000</td>\n",
       "      <td>17.500000</td>\n",
       "      <td>11.300000</td>\n",
       "      <td>14.100000</td>\n",
       "      <td>-140.000000</td>\n",
       "      <td>-851.100000</td>\n",
       "      <td>160000.000000</td>\n",
       "    </tr>\n",
       "  </tbody>\n",
       "</table>\n",
       "</div>"
      ],
      "text/plain": [
       "       TemperatureForecastValencia31012020  \\\n",
       "count                            31.000000   \n",
       "mean                              9.538710   \n",
       "std                               3.025192   \n",
       "min                               5.900000   \n",
       "25%                               7.400000   \n",
       "50%                               8.700000   \n",
       "75%                              11.250000   \n",
       "max                              16.100000   \n",
       "\n",
       "       TemperatureForecastBarcelona31012020  \\\n",
       "count                             31.000000   \n",
       "mean                              12.241935   \n",
       "std                                1.916033   \n",
       "min                                9.200000   \n",
       "25%                               11.100000   \n",
       "50%                               11.700000   \n",
       "75%                               13.000000   \n",
       "max                               17.500000   \n",
       "\n",
       "       TemperatureForecastBarcelona31012020  \\\n",
       "count                             31.000000   \n",
       "mean                               6.551613   \n",
       "std                                2.136800   \n",
       "min                                2.800000   \n",
       "25%                                5.600000   \n",
       "50%                                6.300000   \n",
       "75%                                7.300000   \n",
       "max                               11.300000   \n",
       "\n",
       "       TemperatureForecastBarcelona31012020  demand_forecast_jan20  \\\n",
       "count                             31.000000              31.000000   \n",
       "mean                              10.780645            -285.161290   \n",
       "std                                1.580173              70.065254   \n",
       "min                                8.300000            -350.000000   \n",
       "25%                                9.700000            -340.000000   \n",
       "50%                               10.400000            -315.000000   \n",
       "75%                               12.050000            -257.500000   \n",
       "max                               14.100000            -140.000000   \n",
       "\n",
       "       demand_forecast_jan20  portcalls_M1_forecast_jan20  \n",
       "count              31.000000                    31.000000  \n",
       "mean            -1051.009677                 27935.483871  \n",
       "std                96.308204                 58139.450453  \n",
       "min             -1139.000000                     0.000000  \n",
       "25%             -1123.800000                     0.000000  \n",
       "50%             -1112.700000                     0.000000  \n",
       "75%              -971.850000                     0.000000  \n",
       "max              -851.100000                160000.000000  "
      ]
     },
     "execution_count": 36,
     "metadata": {},
     "output_type": "execute_result"
    }
   ],
   "source": [
    "Forecast_20.describe()"
   ]
  },
  {
   "cell_type": "code",
   "execution_count": 37,
   "metadata": {},
   "outputs": [
    {
     "data": {
      "text/plain": [
       "Index(['Date', 'TemperatureHistoricalMalaga31122019',\n",
       "       'TemperatureHistoricalMalaga31122019',\n",
       "       'TemperatureHistoricalMalaga31122019',\n",
       "       'TemperatureHistoricalValencia31122019', 'PipelineBookingEntry31012020',\n",
       "       'PipelineBookingExit31012020', 'daily_demand_supply_stock_data_train',\n",
       "       'spot_price', 'is_spot'],\n",
       "      dtype='object')"
      ]
     },
     "execution_count": 37,
     "metadata": {},
     "output_type": "execute_result"
    }
   ],
   "source": [
    "Historical_df.columns"
   ]
  },
  {
   "cell_type": "code",
   "execution_count": 38,
   "metadata": {},
   "outputs": [
    {
     "data": {
      "image/png": "[encoded data removed]",
      "text/plain": [
       "<Figure size 1080x432 with 3 Axes>"
      ]
     },
     "metadata": {
      "needs_background": "light"
     },
     "output_type": "display_data"
    }
   ],
   "source": [
    "plt.figure(1,figsize=(15,6))\n",
    "n=0\n",
    "for x in ['TemperatureHistoricalMalaga31122019',\n",
    "       'TemperatureHistoricalMalaga31122019',\n",
    "       'TemperatureHistoricalMalaga31122019']:\n",
    "    n+=1\n",
    "    plt.subplot(1,3,n)\n",
    "    plt.subplots_adjust(hspace=0.5,wspace=0.5)\n",
    "    sns.distplot(Historical_df[x],bins=20)\n",
    "    plt.title('Distplot of {}'.format(x))\n",
    "plt.show()"
   ]
  },
  {
   "cell_type": "code",
   "execution_count": 39,
   "metadata": {},
   "outputs": [
    {
     "data": {
      "image/png": "[encoded data removed]",
      "text/plain": [
       "<Figure size 1080x432 with 3 Axes>"
      ]
     },
     "metadata": {
      "needs_background": "light"
     },
     "output_type": "display_data"
    }
   ],
   "source": [
    "plt.figure(1,figsize=(15,6))\n",
    "n=0\n",
    "for x in ['TemperatureHistoricalValencia31122019',\n",
    "'PipelineBookingEntry31012020',\n",
    "'PipelineBookingExit31012020']:\n",
    "    n+=1\n",
    "    plt.subplot(1,3,n)\n",
    "    plt.subplots_adjust(hspace=0.5,wspace=0.5)\n",
    "    sns.distplot(Historical_df[x],bins=20)\n",
    "    plt.title('Distplot of {}'.format(x))\n",
    "plt.show()"
   ]
  },
  {
   "cell_type": "code",
   "execution_count": 40,
   "metadata": {},
   "outputs": [
    {
     "data": {
      "image/png": "[encoded data removed]",
      "text/plain": [
       "<Figure size 1080x432 with 2 Axes>"
      ]
     },
     "metadata": {
      "needs_background": "light"
     },
     "output_type": "display_data"
    }
   ],
   "source": [
    "plt.figure(1,figsize=(15,6))\n",
    "n=0\n",
    "for x in ['daily_demand_supply_stock_data_train',\n",
    "'spot_price']:\n",
    "    n+=1\n",
    "    plt.subplot(1,3,n)\n",
    "    plt.subplots_adjust(hspace=0.5,wspace=0.5)\n",
    "    sns.distplot(Historical_df[x],bins=20)\n",
    "    plt.title('Distplot of {}'.format(x))\n",
    "plt.show()"
   ]
  },
  {
   "cell_type": "code",
   "execution_count": 41,
   "metadata": {},
   "outputs": [],
   "source": [
    "#Preparing Data for classification\n",
    "#Identiying the X(Independent) and Y(dependent) variables\n",
    "from sklearn.model_selection import train_test_split\n",
    "X = Historical_df.drop(['Date','is_spot'],axis=1)\n",
    "Y = Historical_df['is_spot']\n",
    "#Dividing the data into training and testing sets\n",
    "X_train, X_test, Y_train, Y_test = train_test_split(X, Y, test_size = 0.25, random_state = 75)"
   ]
  },
  {
   "cell_type": "code",
   "execution_count": 42,
   "metadata": {},
   "outputs": [],
   "source": [
    "from sklearn.linear_model import LogisticRegression\n",
    "from sklearn.svm import SVC, LinearSVC\n",
    "from sklearn.ensemble import RandomForestClassifier\n",
    "from sklearn.neighbors import KNeighborsClassifier\n",
    "from sklearn.naive_bayes import GaussianNB\n",
    "from sklearn.linear_model import Perceptron\n",
    "from sklearn.linear_model import SGDClassifier\n",
    "from sklearn.tree import DecisionTreeClassifier"
   ]
  },
  {
   "cell_type": "code",
   "execution_count": 43,
   "metadata": {},
   "outputs": [
    {
     "data": {
      "text/plain": [
       "96.89"
      ]
     },
     "execution_count": 43,
     "metadata": {},
     "output_type": "execute_result"
    }
   ],
   "source": [
    "# Logistic Regression\n",
    "logreg = LogisticRegression()\n",
    "logreg.fit(X_train, Y_train)\n",
    "Y_pred = logreg.predict(X_test)\n",
    "acc_log = round(logreg.score(X_train, Y_train) * 100, 2)\n",
    "acc_log"
   ]
  },
  {
   "cell_type": "code",
   "execution_count": 44,
   "metadata": {},
   "outputs": [
    {
     "data": {
      "text/html": [
       "<div>\n",
       "<style scoped>\n",
       "    .dataframe tbody tr th:only-of-type {\n",
       "        vertical-align: middle;\n",
       "    }\n",
       "\n",
       "    .dataframe tbody tr th {\n",
       "        vertical-align: top;\n",
       "    }\n",
       "\n",
       "    .dataframe thead th {\n",
       "        text-align: right;\n",
       "    }\n",
       "</style>\n",
       "<table border=\"1\" class=\"dataframe\">\n",
       "  <thead>\n",
       "    <tr style=\"text-align: right;\">\n",
       "      <th></th>\n",
       "      <th>Feature</th>\n",
       "      <th>Correlation</th>\n",
       "    </tr>\n",
       "  </thead>\n",
       "  <tbody>\n",
       "    <tr>\n",
       "      <th>6</th>\n",
       "      <td>spot_price</td>\n",
       "      <td>2.407644e-03</td>\n",
       "    </tr>\n",
       "    <tr>\n",
       "      <th>5</th>\n",
       "      <td>daily_demand_supply_stock_data_train</td>\n",
       "      <td>1.846613e-07</td>\n",
       "    </tr>\n",
       "    <tr>\n",
       "      <th>1</th>\n",
       "      <td>TemperatureHistoricalMalaga31122019</td>\n",
       "      <td>5.208745e-10</td>\n",
       "    </tr>\n",
       "    <tr>\n",
       "      <th>0</th>\n",
       "      <td>TemperatureHistoricalMalaga31122019</td>\n",
       "      <td>3.955777e-10</td>\n",
       "    </tr>\n",
       "    <tr>\n",
       "      <th>2</th>\n",
       "      <td>TemperatureHistoricalValencia31122019</td>\n",
       "      <td>-2.378597e-10</td>\n",
       "    </tr>\n",
       "    <tr>\n",
       "      <th>3</th>\n",
       "      <td>PipelineBookingEntry31012020</td>\n",
       "      <td>-6.480173e-10</td>\n",
       "    </tr>\n",
       "    <tr>\n",
       "      <th>4</th>\n",
       "      <td>PipelineBookingExit31012020</td>\n",
       "      <td>-1.162317e-07</td>\n",
       "    </tr>\n",
       "  </tbody>\n",
       "</table>\n",
       "</div>"
      ],
      "text/plain": [
       "                                 Feature   Correlation\n",
       "6                             spot_price  2.407644e-03\n",
       "5   daily_demand_supply_stock_data_train  1.846613e-07\n",
       "1    TemperatureHistoricalMalaga31122019  5.208745e-10\n",
       "0    TemperatureHistoricalMalaga31122019  3.955777e-10\n",
       "2  TemperatureHistoricalValencia31122019 -2.378597e-10\n",
       "3           PipelineBookingEntry31012020 -6.480173e-10\n",
       "4            PipelineBookingExit31012020 -1.162317e-07"
      ]
     },
     "execution_count": 44,
     "metadata": {},
     "output_type": "execute_result"
    }
   ],
   "source": [
    "#Correlation coefficints\n",
    "coeff_df = pd.DataFrame(X_train.columns.delete(0))\n",
    "coeff_df.columns = ['Feature']\n",
    "coeff_df[\"Correlation\"] = pd.Series(logreg.coef_[0])\n",
    "\n",
    "coeff_df.sort_values(by='Correlation', ascending=False)"
   ]
  },
  {
   "cell_type": "code",
   "execution_count": 45,
   "metadata": {},
   "outputs": [
    {
     "data": {
      "text/plain": [
       "99.71"
      ]
     },
     "execution_count": 45,
     "metadata": {},
     "output_type": "execute_result"
    }
   ],
   "source": [
    "# Support Vector Machines\n",
    "svc = SVC()\n",
    "svc.fit(X_train, Y_train)\n",
    "Y_pred = svc.predict(X_test)\n",
    "acc_svc = round(svc.score(X_train, Y_train) * 100, 2)\n",
    "acc_svc"
   ]
  },
  {
   "cell_type": "code",
   "execution_count": 46,
   "metadata": {},
   "outputs": [
    {
     "data": {
      "text/plain": [
       "99.88"
      ]
     },
     "execution_count": 46,
     "metadata": {},
     "output_type": "execute_result"
    }
   ],
   "source": [
    "#KNN\n",
    "knn = KNeighborsClassifier(n_neighbors = 3)\n",
    "knn.fit(X_train, Y_train)\n",
    "Y_pred = knn.predict(X_test)\n",
    "acc_knn = round(knn.score(X_train, Y_train) * 100, 2)\n",
    "acc_knn"
   ]
  },
  {
   "cell_type": "code",
   "execution_count": 47,
   "metadata": {},
   "outputs": [
    {
     "data": {
      "text/plain": [
       "56.89"
      ]
     },
     "execution_count": 47,
     "metadata": {},
     "output_type": "execute_result"
    }
   ],
   "source": [
    "# Gaussian Naive Bayes\n",
    "\n",
    "gaussian = GaussianNB()\n",
    "gaussian.fit(X_train, Y_train)\n",
    "Y_pred = gaussian.predict(X_test)\n",
    "acc_gaussian = round(gaussian.score(X_train, Y_train) * 100, 2)\n",
    "acc_gaussian"
   ]
  },
  {
   "cell_type": "code",
   "execution_count": 48,
   "metadata": {},
   "outputs": [
    {
     "data": {
      "text/plain": [
       "96.89"
      ]
     },
     "execution_count": 48,
     "metadata": {},
     "output_type": "execute_result"
    }
   ],
   "source": [
    "# Perceptron\n",
    "perceptron = Perceptron()\n",
    "perceptron.fit(X_train, Y_train)\n",
    "Y_pred = perceptron.predict(X_test)\n",
    "acc_perceptron = round(perceptron.score(X_train, Y_train) * 100, 2)\n",
    "acc_perceptron"
   ]
  },
  {
   "cell_type": "code",
   "execution_count": 49,
   "metadata": {},
   "outputs": [
    {
     "name": "stderr",
     "output_type": "stream",
     "text": [
      "C:\\Users\\micha\\anaconda3\\lib\\site-packages\\sklearn\\svm\\_base.py:976: ConvergenceWarning: Liblinear failed to converge, increase the number of iterations.\n",
      "  warnings.warn(\"Liblinear failed to converge, increase \"\n"
     ]
    },
    {
     "data": {
      "text/plain": [
       "99.71"
      ]
     },
     "execution_count": 49,
     "metadata": {},
     "output_type": "execute_result"
    }
   ],
   "source": [
    "# Linear SVC\n",
    "\n",
    "linear_svc = LinearSVC()\n",
    "linear_svc.fit(X_train, Y_train)\n",
    "Y_pred = linear_svc.predict(X_test)\n",
    "acc_linear_svc = round(linear_svc.score(X_train, Y_train) * 100, 2)\n",
    "acc_linear_svc"
   ]
  },
  {
   "cell_type": "code",
   "execution_count": 50,
   "metadata": {},
   "outputs": [
    {
     "data": {
      "text/plain": [
       "96.89"
      ]
     },
     "execution_count": 50,
     "metadata": {},
     "output_type": "execute_result"
    }
   ],
   "source": [
    "# Stochastic Gradient Descent\n",
    "\n",
    "sgd = SGDClassifier()\n",
    "sgd.fit(X_train, Y_train)\n",
    "Y_pred = sgd.predict(X_test)\n",
    "acc_sgd = round(sgd.score(X_train, Y_train) * 100, 2)\n",
    "acc_sgd"
   ]
  },
  {
   "cell_type": "code",
   "execution_count": 51,
   "metadata": {},
   "outputs": [
    {
     "data": {
      "text/plain": [
       "100.0"
      ]
     },
     "execution_count": 51,
     "metadata": {},
     "output_type": "execute_result"
    }
   ],
   "source": [
    "# Decision Tree\n",
    "\n",
    "decision_tree = DecisionTreeClassifier()\n",
    "decision_tree.fit(X_train, Y_train)\n",
    "Y_pred = decision_tree.predict(X_test)\n",
    "acc_decision_tree = round(decision_tree.score(X_train, Y_train) * 100, 2)\n",
    "acc_decision_tree"
   ]
  },
  {
   "cell_type": "code",
   "execution_count": 52,
   "metadata": {},
   "outputs": [
    {
     "data": {
      "text/plain": [
       "100.0"
      ]
     },
     "execution_count": 52,
     "metadata": {},
     "output_type": "execute_result"
    }
   ],
   "source": [
    "# Random Forest\n",
    "\n",
    "random_forest = RandomForestClassifier(n_estimators=100)\n",
    "random_forest.fit(X_train, Y_train)\n",
    "Y_pred = random_forest.predict(X_test)\n",
    "random_forest.score(X_train, Y_train)\n",
    "acc_random_forest = round(random_forest.score(X_train, Y_train) * 100, 2)\n",
    "acc_random_forest"
   ]
  },
  {
   "cell_type": "code",
   "execution_count": 53,
   "metadata": {},
   "outputs": [
    {
     "data": {
      "text/html": [
       "<div>\n",
       "<style scoped>\n",
       "    .dataframe tbody tr th:only-of-type {\n",
       "        vertical-align: middle;\n",
       "    }\n",
       "\n",
       "    .dataframe tbody tr th {\n",
       "        vertical-align: top;\n",
       "    }\n",
       "\n",
       "    .dataframe thead th {\n",
       "        text-align: right;\n",
       "    }\n",
       "</style>\n",
       "<table border=\"1\" class=\"dataframe\">\n",
       "  <thead>\n",
       "    <tr style=\"text-align: right;\">\n",
       "      <th></th>\n",
       "      <th>Model</th>\n",
       "      <th>Score</th>\n",
       "    </tr>\n",
       "  </thead>\n",
       "  <tbody>\n",
       "    <tr>\n",
       "      <th>3</th>\n",
       "      <td>Random Forest</td>\n",
       "      <td>100.00</td>\n",
       "    </tr>\n",
       "    <tr>\n",
       "      <th>8</th>\n",
       "      <td>Decision Tree</td>\n",
       "      <td>100.00</td>\n",
       "    </tr>\n",
       "    <tr>\n",
       "      <th>1</th>\n",
       "      <td>KNN</td>\n",
       "      <td>99.88</td>\n",
       "    </tr>\n",
       "    <tr>\n",
       "      <th>0</th>\n",
       "      <td>Support Vector Machines</td>\n",
       "      <td>99.71</td>\n",
       "    </tr>\n",
       "    <tr>\n",
       "      <th>7</th>\n",
       "      <td>Linear SVC</td>\n",
       "      <td>99.71</td>\n",
       "    </tr>\n",
       "    <tr>\n",
       "      <th>2</th>\n",
       "      <td>Logistic Regression</td>\n",
       "      <td>96.89</td>\n",
       "    </tr>\n",
       "    <tr>\n",
       "      <th>5</th>\n",
       "      <td>Perceptron</td>\n",
       "      <td>96.89</td>\n",
       "    </tr>\n",
       "    <tr>\n",
       "      <th>6</th>\n",
       "      <td>Stochastic Gradient Decent</td>\n",
       "      <td>96.89</td>\n",
       "    </tr>\n",
       "    <tr>\n",
       "      <th>4</th>\n",
       "      <td>Naive Bayes</td>\n",
       "      <td>56.89</td>\n",
       "    </tr>\n",
       "  </tbody>\n",
       "</table>\n",
       "</div>"
      ],
      "text/plain": [
       "                        Model   Score\n",
       "3               Random Forest  100.00\n",
       "8               Decision Tree  100.00\n",
       "1                         KNN   99.88\n",
       "0     Support Vector Machines   99.71\n",
       "7                  Linear SVC   99.71\n",
       "2         Logistic Regression   96.89\n",
       "5                  Perceptron   96.89\n",
       "6  Stochastic Gradient Decent   96.89\n",
       "4                 Naive Bayes   56.89"
      ]
     },
     "execution_count": 53,
     "metadata": {},
     "output_type": "execute_result"
    }
   ],
   "source": [
    "#Model Evaluation\n",
    "models = pd.DataFrame({\n",
    "    'Model': ['Support Vector Machines', 'KNN', 'Logistic Regression', \n",
    "              'Random Forest', 'Naive Bayes', 'Perceptron', \n",
    "              'Stochastic Gradient Decent', 'Linear SVC', \n",
    "              'Decision Tree'],\n",
    "    'Score': [acc_svc, acc_knn, acc_log, \n",
    "              acc_random_forest, acc_gaussian, acc_perceptron, \n",
    "              acc_sgd, acc_linear_svc, acc_decision_tree]})\n",
    "models.sort_values(by='Score', ascending=False)"
   ]
  },
  {
   "cell_type": "code",
   "execution_count": 54,
   "metadata": {},
   "outputs": [
    {
     "name": "stdout",
     "output_type": "stream",
     "text": [
      "              precision    recall  f1-score   support\n",
      "\n",
      "           1       1.00      1.00      1.00       816\n",
      "\n",
      "    accuracy                           1.00       816\n",
      "   macro avg       1.00      1.00      1.00       816\n",
      "weighted avg       1.00      1.00      1.00       816\n",
      "\n"
     ]
    }
   ],
   "source": [
    "from sklearn.metrics import classification_report\n",
    "print(classification_report(Y_test, Y_pred))"
   ]
  },
  {
   "cell_type": "code",
   "execution_count": 55,
   "metadata": {},
   "outputs": [],
   "source": [
    "#Preparing the submission file\n",
    "submission = pd.DataFrame({\n",
    "        \"Date\": X_test[\"spot_price\"],\n",
    "        \"spot_price\": Y_pred\n",
    "    })"
   ]
  },
  {
   "cell_type": "code",
   "execution_count": 56,
   "metadata": {},
   "outputs": [],
   "source": [
    "submission.to_csv('submission.csv', index=False)"
   ]
  }
 ],
 "metadata": {
  "kernelspec": {
   "display_name": "Python 3",
   "language": "python",
   "name": "python3"
  },
  "language_info": {
   "codemirror_mode": {
    "name": "ipython",
    "version": 3
   },
   "file_extension": ".py",
   "mimetype": "text/x-python",
   "name": "python",
   "nbconvert_exporter": "python",
   "pygments_lexer": "ipython3",
   "version": "3.8.3"
  }
 },
 "nbformat": 4,
 "nbformat_minor": 5
}
